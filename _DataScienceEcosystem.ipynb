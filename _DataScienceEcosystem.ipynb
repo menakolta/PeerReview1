{
 "cells": [
  {
   "cell_type": "markdown",
   "id": "8a1663f1-763a-480f-9be0-6acc80e918ea",
   "metadata": {},
   "source": [
    "# Data Science Tools and ecosystem "
   ]
  },
  {
   "cell_type": "markdown",
   "id": "22767f15-1a90-466a-b446-bc8c2008512f",
   "metadata": {},
   "source": [
    "In this notebook, Data Science Tools and Ecosystem are summarized"
   ]
  },
  {
   "cell_type": "markdown",
   "id": "07753f55-fc2a-4543-9381-33268dc8420e",
   "metadata": {},
   "source": [
    "**Objectives:**\n",
    "* Python:\n",
    "Rich ecosystem of libraries like NumPy, pandas, Matplotlib, scikit-learn, TensorFlow, PyTorch, etc.\n",
    "Easy to learn and widely supported.\n",
    "Excellent for machine learning, data analysis, visualization, and automation.\n",
    "* R:\n",
    "Designed specifically for statistical computing and graphics.\n",
    "Extensive libraries for statistical modeling and analysis (e.g., ggplot2, dplyr, caret).\n",
    "Strong in academic and research communities.\n",
    "* SQL:\n",
    "Essential for querying and manipulating structured data in relational databases.\n",
    "Commonly used to retrieve data for analysis."
   ]
  },
  {
   "cell_type": "markdown",
   "id": "e5edd32c-3dda-4078-87f4-437854401aef",
   "metadata": {},
   "source": [
    "Some of the popular languages that data scientists use are: \n",
    "1. Python\n",
    "3. SQL\n",
    "4. R \n"
   ]
  },
  {
   "cell_type": "markdown",
   "id": "a396f84c-c71d-4ef7-9dfe-993fb02179ee",
   "metadata": {},
   "source": [
    "Some of the commonly used libraries used by Data Scientists include:\n",
    "1. Pandas\n",
    "2. Numpy\n",
    "3. Scikit learn"
   ]
  },
  {
   "cell_type": "markdown",
   "id": "78b574bd-1f4e-47d1-bc52-f21eed8ce42c",
   "metadata": {},
   "source": [
    "|Data Science Tools|\n",
    "|------------------|\n",
    "|MongoDB           |\n",
    "|CouchDB           |\n",
    "|Cassandra         |"
   ]
  },
  {
   "cell_type": "markdown",
   "id": "12f7e5ba-22a1-467f-a3d6-14138df87deb",
   "metadata": {},
   "source": [
    "### Below are a few examples of evaluating arithmetic expressions in Python"
   ]
  },
  {
   "cell_type": "code",
   "execution_count": 4,
   "id": "10fbf072-259e-4cdb-93ca-b5fe26e2ff25",
   "metadata": {},
   "outputs": [
    {
     "data": {
      "text/plain": [
       "17"
      ]
     },
     "execution_count": 4,
     "metadata": {},
     "output_type": "execute_result"
    }
   ],
   "source": [
    "# This is a simple arithmetic expression to mutiply then add integers\n",
    "\n",
    "(3*4)+5\n"
   ]
  },
  {
   "cell_type": "code",
   "execution_count": 6,
   "id": "2055c7a7-02d8-46a2-bcb7-4b84795aedee",
   "metadata": {},
   "outputs": [
    {
     "data": {
      "text/plain": [
       "3.3333333333333335"
      ]
     },
     "execution_count": 6,
     "metadata": {},
     "output_type": "execute_result"
    }
   ],
   "source": [
    "# This will convert 200 minutes to hours by diving by 60\n",
    "(200/60)"
   ]
  },
  {
   "cell_type": "markdown",
   "id": "21061bf6-5ed6-4ce6-b821-24aef02e87e4",
   "metadata": {},
   "source": [
    "## Author\n",
    " Mena Kolta"
   ]
  },
  {
   "cell_type": "markdown",
   "id": "96c3cc4b-9b1c-42d4-95de-3613168b03de",
   "metadata": {},
   "source": []
  },
  {
   "cell_type": "code",
   "execution_count": null,
   "id": "2827f864-7f1e-4b8b-bf83-8de0392c91af",
   "metadata": {},
   "outputs": [],
   "source": []
  }
 ],
 "metadata": {
  "kernelspec": {
   "display_name": "Python 3 (ipykernel)",
   "language": "python",
   "name": "python3"
  },
  "language_info": {
   "codemirror_mode": {
    "name": "ipython",
    "version": 3
   },
   "file_extension": ".py",
   "mimetype": "text/x-python",
   "name": "python",
   "nbconvert_exporter": "python",
   "pygments_lexer": "ipython3",
   "version": "3.11.9"
  }
 },
 "nbformat": 4,
 "nbformat_minor": 5
}
